{
 "cells": [
  {
   "cell_type": "markdown",
   "metadata": {
    "id": "MuYB4pE_viZG"
   },
   "source": [
    "# Práctica de la librería Numpy\n",
    "\n",
    "En este notebook, se desarrollarán una serie de tareas utilizando la librería Numpy (Numerical Python).\n",
    "\n",
    "Se proponen y documentan posibles formas de resolver los ejercicios, pero las mismas no son únicas.\n",
    "\n",
    "Siempre es una buena idea verificar la [Documentación Oficial de Numpy](https://numpy.org/devdocs/user/index.html), donde es posible encontrar todo tipo de información referida a esta librería. Y si te quedas trabado, busca en Google \"como hacer [algo] con Numpy\". Hay enormes probabilidades de que esa pregunta ya haya sido respondida!"
   ]
  },
  {
   "cell_type": "code",
   "execution_count": 2,
   "metadata": {
    "id": "Hrz__kvsviZL"
   },
   "outputs": [],
   "source": [
    "# Importamos Numpy con su abreviación \"np\"\n",
    "import numpy as np"
   ]
  },
  {
   "cell_type": "code",
   "execution_count": 8,
   "metadata": {
    "id": "9fwuO-3_viZM"
   },
   "outputs": [],
   "source": [
    "# Podemos crear arrays de una dimensión con la función np.array()\n",
    "array_unidim = np.array([1, 2, 3, 4, 5])\n",
    "# O un array de dos dimensiones (bidimensional)\n",
    "array_bidim = np.array([[1, 2, 3], [\"a\", \"b\" , \"c\"]])\n",
    "# O un array de tres dimensiones (tridimensional)\n",
    "array_tridim = np.array([\n",
    "    [[1, 2, 3], [4, 5, 6]],\n",
    "    [[7, 8, 9], [10, 11, 12]]\n",
    "])"
   ]
  },
  {
   "cell_type": "markdown",
   "metadata": {
    "id": "qp2_ZpJXviZN"
   },
   "source": [
    "Para cada uno de estos arrays, podemos obtener sus propiedades, tales como su \"forma\", número de dimensiones, tipos de datos y tamaño."
   ]
  },
  {
   "cell_type": "code",
   "execution_count": 9,
   "metadata": {
    "id": "m2HD8334viZN"
   },
   "outputs": [
    {
     "data": {
      "text/plain": [
       "((5,), 1, dtype('int32'), 5, numpy.ndarray)"
      ]
     },
     "execution_count": 9,
     "metadata": {},
     "output_type": "execute_result"
    }
   ],
   "source": [
    "# Atributos del array unidimensional (forma, número de dimensiones, tipos de datos, tamaño, y tipo)\n",
    "array_unidim.shape, array_unidim.ndim, array_unidim.dtype, array_unidim.size, type(array_unidim)"
   ]
  },
  {
   "cell_type": "code",
   "execution_count": 10,
   "metadata": {
    "id": "CW6dU4z6viZO"
   },
   "outputs": [
    {
     "data": {
      "text/plain": [
       "((2, 3), 2, dtype('<U11'), 6, numpy.ndarray)"
      ]
     },
     "execution_count": 10,
     "metadata": {},
     "output_type": "execute_result"
    }
   ],
   "source": [
    "# Atributos del array bidimensional\n",
    "array_bidim.shape, array_bidim.ndim, array_bidim.dtype, array_bidim.size, type(array_bidim)"
   ]
  },
  {
   "cell_type": "code",
   "execution_count": 11,
   "metadata": {
    "id": "2dQw-98tviZP"
   },
   "outputs": [
    {
     "data": {
      "text/plain": [
       "((2, 2, 3), 3, dtype('int32'), 12, numpy.ndarray)"
      ]
     },
     "execution_count": 11,
     "metadata": {},
     "output_type": "execute_result"
    }
   ],
   "source": [
    "# Atributos del array tridimensional\n",
    "array_tridim.shape, array_tridim.ndim, array_tridim.dtype, array_tridim.size, type(array_tridim)"
   ]
  },
  {
   "cell_type": "code",
   "execution_count": 13,
   "metadata": {
    "id": "bqWXuSpEviZQ"
   },
   "outputs": [
    {
     "data": {
      "text/html": [
       "<div>\n",
       "<style scoped>\n",
       "    .dataframe tbody tr th:only-of-type {\n",
       "        vertical-align: middle;\n",
       "    }\n",
       "\n",
       "    .dataframe tbody tr th {\n",
       "        vertical-align: top;\n",
       "    }\n",
       "\n",
       "    .dataframe thead th {\n",
       "        text-align: right;\n",
       "    }\n",
       "</style>\n",
       "<table border=\"1\" class=\"dataframe\">\n",
       "  <thead>\n",
       "    <tr style=\"text-align: right;\">\n",
       "      <th></th>\n",
       "      <th>0</th>\n",
       "      <th>1</th>\n",
       "      <th>2</th>\n",
       "    </tr>\n",
       "  </thead>\n",
       "  <tbody>\n",
       "    <tr>\n",
       "      <th>0</th>\n",
       "      <td>1</td>\n",
       "      <td>2</td>\n",
       "      <td>3</td>\n",
       "    </tr>\n",
       "    <tr>\n",
       "      <th>1</th>\n",
       "      <td>a</td>\n",
       "      <td>b</td>\n",
       "      <td>c</td>\n",
       "    </tr>\n",
       "  </tbody>\n",
       "</table>\n",
       "</div>"
      ],
      "text/plain": [
       "   0  1  2\n",
       "0  1  2  3\n",
       "1  a  b  c"
      ]
     },
     "execution_count": 13,
     "metadata": {},
     "output_type": "execute_result"
    }
   ],
   "source": [
    "# Importamos pandas como pd, y creamos un DataFrame a partir del array bidimensional\n",
    "import pandas as pd\n",
    "datos = pd.DataFrame(array_bidim)\n",
    "datos"
   ]
  },
  {
   "cell_type": "code",
   "execution_count": 15,
   "metadata": {
    "id": "uxuBbWJlviZQ"
   },
   "outputs": [
    {
     "data": {
      "text/plain": [
       "array([[1., 1., 1.],\n",
       "       [1., 1., 1.],\n",
       "       [1., 1., 1.],\n",
       "       [1., 1., 1.]])"
      ]
     },
     "execution_count": 15,
     "metadata": {},
     "output_type": "execute_result"
    }
   ],
   "source": [
    "# Creamos un array de tamaño 4x3, formado únicamente por unos (1)\n",
    "unos = np.ones((4, 3))\n",
    "unos"
   ]
  },
  {
   "cell_type": "code",
   "execution_count": 16,
   "metadata": {
    "id": "lf4ntwB-viZR"
   },
   "outputs": [
    {
     "data": {
      "text/plain": [
       "array([[[0., 0., 0.],\n",
       "        [0., 0., 0.],\n",
       "        [0., 0., 0.],\n",
       "        [0., 0., 0.]],\n",
       "\n",
       "       [[0., 0., 0.],\n",
       "        [0., 0., 0.],\n",
       "        [0., 0., 0.],\n",
       "        [0., 0., 0.]]])"
      ]
     },
     "execution_count": 16,
     "metadata": {},
     "output_type": "execute_result"
    }
   ],
   "source": [
    "# Creamos un array de tamaño 2x4x3, formado únicamente por ceros (0)\n",
    "ceros = np.zeros((2,4,3))\n",
    "ceros"
   ]
  },
  {
   "cell_type": "code",
   "execution_count": 18,
   "metadata": {
    "id": "HSJS5vPvviZS"
   },
   "outputs": [
    {
     "data": {
      "text/plain": [
       "array([ 0,  5, 10, 15, 20, 25, 30, 35, 40, 45, 50, 55, 60, 65, 70, 75, 80,\n",
       "       85, 90, 95])"
      ]
     },
     "execution_count": 18,
     "metadata": {},
     "output_type": "execute_result"
    }
   ],
   "source": [
    "# Creamos un array de números en el rango de 0 a 100, con un paso de 5\n",
    "array_1 = np.arange(0,100,5)\n",
    "array_1"
   ]
  },
  {
   "cell_type": "code",
   "execution_count": 24,
   "metadata": {
    "id": "IuSvyty3viZT"
   },
   "outputs": [
    {
     "data": {
      "text/plain": [
       "array([[7, 5, 5, 1, 1],\n",
       "       [9, 2, 0, 5, 0]])"
      ]
     },
     "execution_count": 24,
     "metadata": {},
     "output_type": "execute_result"
    }
   ],
   "source": [
    "# Creamos un array de números aleatorios enteros comprendidos en entre 0 y 10, de tamaño (2, 5)\n",
    "array_2 = np.random.randint(0,10,(2,5))\n",
    "array_2"
   ]
  },
  {
   "cell_type": "code",
   "execution_count": 25,
   "metadata": {
    "id": "grncP2mwviZT"
   },
   "outputs": [
    {
     "data": {
      "text/plain": [
       "array([[0.32836154, 0.38850678, 0.47026606, 0.85935736, 0.45832415],\n",
       "       [0.16104974, 0.14686947, 0.68813463, 0.46780644, 0.00899139],\n",
       "       [0.32924202, 0.508655  , 0.27009691, 0.77977232, 0.9271947 ]])"
      ]
     },
     "execution_count": 25,
     "metadata": {},
     "output_type": "execute_result"
    }
   ],
   "source": [
    "# Creamos un array de números aleatorios decimales comprendidos en entre 0 y 1, de tamaño (3, 5)\n",
    "array_3 = np.random.random((3,5))\n",
    "array_3"
   ]
  },
  {
   "cell_type": "code",
   "execution_count": 26,
   "metadata": {
    "id": "8pCexJ6zviZT"
   },
   "outputs": [
    {
     "data": {
      "text/plain": [
       "array([[3, 8, 8, 8, 0],\n",
       "       [5, 8, 9, 1, 2],\n",
       "       [1, 1, 4, 6, 3]])"
      ]
     },
     "execution_count": 26,
     "metadata": {},
     "output_type": "execute_result"
    }
   ],
   "source": [
    "# Establecemos la \"semilla\" de números aleatorios en 27\n",
    "np.random.seed(27)\n",
    "\n",
    "# Creamos un array de números aleatorios enteros comprendidos en entre 0 y 10, de tamaño (3, 5).\n",
    "# Debido a que hemos fijado la semilla, los números son fijos cada vez que se ejecuta\n",
    "array_4 = np.random.randint(0, 10, (3,5))\n",
    "array_4"
   ]
  },
  {
   "cell_type": "markdown",
   "metadata": {
    "id": "N41yqfNDviZU"
   },
   "source": [
    "¿Qué ocurre al correr la última celda nuevamente, a diferencia de las anteriores?"
   ]
  },
  {
   "cell_type": "code",
   "execution_count": 27,
   "metadata": {
    "id": "acrAc-j4viZY"
   },
   "outputs": [
    {
     "data": {
      "text/plain": [
       "array([0, 1, 2, 3, 4, 5, 6, 8, 9])"
      ]
     },
     "execution_count": 27,
     "metadata": {},
     "output_type": "execute_result"
    }
   ],
   "source": [
    "# Encontramos los valores únicos del array_4\n",
    "valores_unicos = np.unique(array_4)\n",
    "valores_unicos"
   ]
  },
  {
   "cell_type": "code",
   "execution_count": null,
   "metadata": {
    "id": "d-pXWguvviZZ"
   },
   "outputs": [],
   "source": [
    "# Extramos el elemento de índice 1 del array_4\n",
    "array_4[1]"
   ]
  },
  {
   "cell_type": "code",
   "execution_count": 28,
   "metadata": {
    "id": "cVx_UouPviZa"
   },
   "outputs": [
    {
     "data": {
      "text/plain": [
       "array([[3, 8, 8, 8, 0],\n",
       "       [5, 8, 9, 1, 2]])"
      ]
     },
     "execution_count": 28,
     "metadata": {},
     "output_type": "execute_result"
    }
   ],
   "source": [
    "# Extraemos las primeras dos filas del array_4\n",
    "array_4[0:2]"
   ]
  },
  {
   "cell_type": "code",
   "execution_count": 31,
   "metadata": {
    "id": "rIsVaI-JviZa"
   },
   "outputs": [
    {
     "data": {
      "text/plain": [
       "array([[3, 8],\n",
       "       [5, 8]])"
      ]
     },
     "execution_count": 31,
     "metadata": {},
     "output_type": "execute_result"
    }
   ],
   "source": [
    "# Extraemos los dos primeros datos de las primeras dos filas del array_4\n",
    "array_4[:2, :2]"
   ]
  },
  {
   "cell_type": "code",
   "execution_count": 32,
   "metadata": {
    "id": "3sw4JCF6viZb"
   },
   "outputs": [],
   "source": [
    "# Creamos dos arrays de tamaño 3x4: uno relleno de números aleatorios entre 0 y 10, y otro relleno de unos\n",
    "array_5 = np.random.randint(0, 10, (3,4))\n",
    "array_6 = np.ones((3,4))"
   ]
  },
  {
   "cell_type": "code",
   "execution_count": 33,
   "metadata": {
    "id": "kVas2wqdviZb"
   },
   "outputs": [
    {
     "data": {
      "text/plain": [
       "array([[3, 0, 5, 3],\n",
       "       [3, 6, 7, 2],\n",
       "       [7, 8, 5, 7]])"
      ]
     },
     "execution_count": 33,
     "metadata": {},
     "output_type": "execute_result"
    }
   ],
   "source": [
    "# invocamos el array_5\n",
    "array_5"
   ]
  },
  {
   "cell_type": "code",
   "execution_count": 34,
   "metadata": {
    "id": "ZnZoUjRIviZb"
   },
   "outputs": [
    {
     "data": {
      "text/plain": [
       "array([[1., 1., 1., 1.],\n",
       "       [1., 1., 1., 1.],\n",
       "       [1., 1., 1., 1.]])"
      ]
     },
     "execution_count": 34,
     "metadata": {},
     "output_type": "execute_result"
    }
   ],
   "source": [
    "# invocamos el array_6\n",
    "array_6"
   ]
  },
  {
   "cell_type": "code",
   "execution_count": 37,
   "metadata": {
    "id": "EoBkbsHqviZb"
   },
   "outputs": [
    {
     "data": {
      "text/plain": [
       "array([[4., 1., 6., 4.],\n",
       "       [4., 7., 8., 3.],\n",
       "       [8., 9., 6., 8.]])"
      ]
     },
     "execution_count": 37,
     "metadata": {},
     "output_type": "execute_result"
    }
   ],
   "source": [
    "# Sumamos los dos arrays\n",
    "array_5 + array_6"
   ]
  },
  {
   "cell_type": "code",
   "execution_count": 39,
   "metadata": {
    "id": "493z2XKFviZc"
   },
   "outputs": [],
   "source": [
    "# Creamos ahora un array de tamaño (4,3) lleno de unos\n",
    "array_7 = np.ones((4, 3))"
   ]
  },
  {
   "cell_type": "code",
   "execution_count": 40,
   "metadata": {
    "id": "f19RtdoYviZc"
   },
   "outputs": [
    {
     "ename": "ValueError",
     "evalue": "operands could not be broadcast together with shapes (4,3) (3,4) ",
     "output_type": "error",
     "traceback": [
      "\u001b[1;31m---------------------------------------------------------------------------\u001b[0m",
      "\u001b[1;31mValueError\u001b[0m                                Traceback (most recent call last)",
      "Input \u001b[1;32mIn [40]\u001b[0m, in \u001b[0;36m<cell line: 2>\u001b[1;34m()\u001b[0m\n\u001b[0;32m      1\u001b[0m \u001b[38;5;66;03m# Intentaremos sumar los arrays 6 y 7\u001b[39;00m\n\u001b[1;32m----> 2\u001b[0m \u001b[43marray_7\u001b[49m\u001b[43m \u001b[49m\u001b[38;5;241;43m+\u001b[39;49m\u001b[43m \u001b[49m\u001b[43marray_6\u001b[49m\n",
      "\u001b[1;31mValueError\u001b[0m: operands could not be broadcast together with shapes (4,3) (3,4) "
     ]
    }
   ],
   "source": [
    "# Intentaremos sumar los arrays 6 y 7\n",
    "array_7 + array_6"
   ]
  },
  {
   "cell_type": "markdown",
   "metadata": {
    "id": "wZKsfqU4viZc"
   },
   "source": [
    "¿A qué se debe el error anterior? ¿Qué deberíamos tener en cuenta para que no suceda?"
   ]
  },
  {
   "cell_type": "code",
   "execution_count": 42,
   "metadata": {
    "id": "obwyxLmWviZc"
   },
   "outputs": [],
   "source": [
    "# Entonces crearemos otro array de tamaño (4,3) lleno de unos\n",
    "array_8 = np.ones((4,3))"
   ]
  },
  {
   "cell_type": "code",
   "execution_count": 43,
   "metadata": {
    "id": "JyBEsQ5NviZd"
   },
   "outputs": [
    {
     "data": {
      "text/plain": [
       "array([[0., 0., 0.],\n",
       "       [0., 0., 0.],\n",
       "       [0., 0., 0.],\n",
       "       [0., 0., 0.]])"
      ]
     },
     "execution_count": 43,
     "metadata": {},
     "output_type": "execute_result"
    }
   ],
   "source": [
    "# Restamos el array_8 al array_7\n",
    "array_7 - array_8"
   ]
  },
  {
   "cell_type": "code",
   "execution_count": 45,
   "metadata": {
    "id": "utZb5NTzviZd"
   },
   "outputs": [],
   "source": [
    "# Creamos otros dos arrays de tamaño 3x3 con números aleatorios del 1 al 5\n",
    "array_9 = np.random.randint(1,5,(3,3))\n",
    "array_10 = np.random.randint(1,5,(3,3))"
   ]
  },
  {
   "cell_type": "code",
   "execution_count": 46,
   "metadata": {
    "id": "u1vV-B5C2vSk"
   },
   "outputs": [
    {
     "data": {
      "text/plain": [
       "array([[2, 3, 4],\n",
       "       [1, 4, 4],\n",
       "       [2, 3, 4]])"
      ]
     },
     "execution_count": 46,
     "metadata": {},
     "output_type": "execute_result"
    }
   ],
   "source": [
    "# invocamos el array_9\n",
    "array_9"
   ]
  },
  {
   "cell_type": "code",
   "execution_count": 47,
   "metadata": {
    "id": "79rO6fGL2wvE"
   },
   "outputs": [
    {
     "data": {
      "text/plain": [
       "array([[2, 1, 4],\n",
       "       [4, 1, 2],\n",
       "       [2, 4, 1]])"
      ]
     },
     "execution_count": 47,
     "metadata": {},
     "output_type": "execute_result"
    }
   ],
   "source": [
    "# invocamos el array_10\n",
    "array_10"
   ]
  },
  {
   "cell_type": "code",
   "execution_count": 48,
   "metadata": {
    "id": "ZhBCrrbKviZd"
   },
   "outputs": [
    {
     "data": {
      "text/plain": [
       "array([[ 4,  3, 16],\n",
       "       [ 4,  4,  8],\n",
       "       [ 4, 12,  4]])"
      ]
     },
     "execution_count": 48,
     "metadata": {},
     "output_type": "execute_result"
    }
   ],
   "source": [
    "# Multiplicamos los últimos dos arrays entre sí\n",
    "array_9 * array_10"
   ]
  },
  {
   "cell_type": "code",
   "execution_count": 51,
   "metadata": {
    "id": "-u-zydBZviZd"
   },
   "outputs": [
    {
     "data": {
      "text/plain": [
       "array([[ 4,  9, 16],\n",
       "       [ 1, 16, 16],\n",
       "       [ 4,  9, 16]], dtype=int32)"
      ]
     },
     "execution_count": 51,
     "metadata": {},
     "output_type": "execute_result"
    }
   ],
   "source": [
    "# Elevamos el array_9 al cuadrado\n",
    "np.power(array_9, 2)\n",
    "#array_9**2"
   ]
  },
  {
   "cell_type": "code",
   "execution_count": 52,
   "metadata": {
    "id": "dMEqsjSD3D6F"
   },
   "outputs": [
    {
     "data": {
      "text/plain": [
       "array([[1.41421356, 1.        , 2.        ],\n",
       "       [2.        , 1.        , 1.41421356],\n",
       "       [1.41421356, 2.        , 1.        ]])"
      ]
     },
     "execution_count": 52,
     "metadata": {},
     "output_type": "execute_result"
    }
   ],
   "source": [
    "# Buscamos la raíz cuadrada del array_10\n",
    "np.sqrt(array_10)\n",
    "#array_10**-2"
   ]
  },
  {
   "cell_type": "code",
   "execution_count": 57,
   "metadata": {
    "id": "4TlMFRRFviZd"
   },
   "outputs": [
    {
     "data": {
      "text/plain": [
       "3.0"
      ]
     },
     "execution_count": 57,
     "metadata": {},
     "output_type": "execute_result"
    }
   ],
   "source": [
    "# Hallamos el promedio de los valores del array_9\n",
    "np.average(array_9)"
   ]
  },
  {
   "cell_type": "code",
   "execution_count": 59,
   "metadata": {
    "id": "mu1-ASw7viZd"
   },
   "outputs": [
    {
     "data": {
      "text/plain": [
       "4"
      ]
     },
     "execution_count": 59,
     "metadata": {},
     "output_type": "execute_result"
    }
   ],
   "source": [
    "# Hallamos el valor máximo de los valores del array_9\n",
    "np.max(array_9)\n",
    "#array_9.max()"
   ]
  },
  {
   "cell_type": "code",
   "execution_count": 58,
   "metadata": {
    "id": "iKAPHmnVviZe"
   },
   "outputs": [
    {
     "data": {
      "text/plain": [
       "1"
      ]
     },
     "execution_count": 58,
     "metadata": {},
     "output_type": "execute_result"
    }
   ],
   "source": [
    "# Hallamos el valor mínimo de los valores del array_9\n",
    "np.min(array_9)\n",
    "#array_9.min()"
   ]
  },
  {
   "cell_type": "code",
   "execution_count": 60,
   "metadata": {
    "id": "K2N9WX6dviZe"
   },
   "outputs": [],
   "source": [
    "# Cambiamos la forma del array_9 por una de 9x1, y lo almacenamos como array_11\n",
    "array_11 = array_9.reshape((9,1))"
   ]
  },
  {
   "cell_type": "code",
   "execution_count": 61,
   "metadata": {
    "id": "YM2wKMOk3vrJ"
   },
   "outputs": [
    {
     "data": {
      "text/plain": [
       "array([[2],\n",
       "       [3],\n",
       "       [4],\n",
       "       [1],\n",
       "       [4],\n",
       "       [4],\n",
       "       [2],\n",
       "       [3],\n",
       "       [4]])"
      ]
     },
     "execution_count": 61,
     "metadata": {},
     "output_type": "execute_result"
    }
   ],
   "source": [
    "# invocamos el array_11\n",
    "array_11"
   ]
  },
  {
   "cell_type": "code",
   "execution_count": 62,
   "metadata": {
    "id": "hjv049niviZe"
   },
   "outputs": [
    {
     "data": {
      "text/plain": [
       "array([[2, 3, 4, 1, 4, 4, 2, 3, 4]])"
      ]
     },
     "execution_count": 62,
     "metadata": {},
     "output_type": "execute_result"
    }
   ],
   "source": [
    "# Transponemos el array_11\n",
    "array_11.transpose()\n",
    "# array_11.T"
   ]
  },
  {
   "cell_type": "code",
   "execution_count": 63,
   "metadata": {
    "id": "ygIkkZcwviZg"
   },
   "outputs": [
    {
     "data": {
      "text/plain": [
       "array([[False,  True, False],\n",
       "       [False,  True,  True],\n",
       "       [False, False,  True]])"
      ]
     },
     "execution_count": 63,
     "metadata": {},
     "output_type": "execute_result"
    }
   ],
   "source": [
    "# Comparamos el array_9 y el array_10, para saber cuáles elementos del array_9 son mayores a los del array_10\n",
    "array_12 = array_9 > array_10\n",
    "array_12"
   ]
  },
  {
   "cell_type": "markdown",
   "metadata": {
    "id": "-MNVhc50viZg"
   },
   "source": [
    "¿Qué tipos de datos forman parte del array de resultados?"
   ]
  },
  {
   "cell_type": "code",
   "execution_count": 65,
   "metadata": {
    "id": "JRRyJjDdEUd4"
   },
   "outputs": [
    {
     "data": {
      "text/plain": [
       "dtype('bool')"
      ]
     },
     "execution_count": 65,
     "metadata": {},
     "output_type": "execute_result"
    }
   ],
   "source": [
    "# Veamos sus nuevos tipos de datos\n",
    "array_12.dtype"
   ]
  },
  {
   "cell_type": "code",
   "execution_count": 66,
   "metadata": {
    "id": "toyvK5rYviZh"
   },
   "outputs": [
    {
     "data": {
      "text/plain": [
       "array([[ True, False,  True],\n",
       "       [False, False, False],\n",
       "       [ True, False, False]])"
      ]
     },
     "execution_count": 66,
     "metadata": {},
     "output_type": "execute_result"
    }
   ],
   "source": [
    "# Alguno de los elementos del array_9 es igual su equivalente del array_10?\n",
    "array_9 == array_10"
   ]
  },
  {
   "cell_type": "code",
   "execution_count": 67,
   "metadata": {
    "id": "FXguC1-UviZg"
   },
   "outputs": [
    {
     "data": {
      "text/plain": [
       "array([[ True,  True,  True],\n",
       "       [False,  True,  True],\n",
       "       [ True, False,  True]])"
      ]
     },
     "execution_count": 67,
     "metadata": {},
     "output_type": "execute_result"
    }
   ],
   "source": [
    "# Comparamos nuevamente ambos arrays, en esta ocasión con >=\n",
    "array_9 >= array_10"
   ]
  },
  {
   "cell_type": "code",
   "execution_count": 68,
   "metadata": {
    "id": "Ws2bJ0ZEviZg"
   },
   "outputs": [
    {
     "data": {
      "text/plain": [
       "array([[False,  True,  True],\n",
       "       [False,  True,  True],\n",
       "       [False,  True,  True]])"
      ]
     },
     "execution_count": 68,
     "metadata": {},
     "output_type": "execute_result"
    }
   ],
   "source": [
    "# Buscamos los elementos del array_9 que son mayores a 2\n",
    "array_9 > 2"
   ]
  },
  {
   "cell_type": "code",
   "execution_count": 72,
   "metadata": {
    "id": "z4XeFVsoviZh"
   },
   "outputs": [
    {
     "data": {
      "text/plain": [
       "array([[2, 3, 4],\n",
       "       [1, 4, 4],\n",
       "       [2, 3, 4]])"
      ]
     },
     "execution_count": 72,
     "metadata": {},
     "output_type": "execute_result"
    }
   ],
   "source": [
    "# Ordenamos de menor a mayor los elementos dentro del array_9\n",
    "np.sort(array_9)"
   ]
  }
 ],
 "metadata": {
  "colab": {
   "collapsed_sections": [],
   "name": "Python TOTAL - Numpy.ipynb",
   "provenance": []
  },
  "kernelspec": {
   "display_name": "Python 3 (ipykernel)",
   "language": "python",
   "name": "python3"
  },
  "language_info": {
   "codemirror_mode": {
    "name": "ipython",
    "version": 3
   },
   "file_extension": ".py",
   "mimetype": "text/x-python",
   "name": "python",
   "nbconvert_exporter": "python",
   "pygments_lexer": "ipython3",
   "version": "3.9.12"
  }
 },
 "nbformat": 4,
 "nbformat_minor": 1
}
